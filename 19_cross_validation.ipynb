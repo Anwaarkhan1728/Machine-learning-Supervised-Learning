{
 "cells": [
  {
   "cell_type": "markdown",
   "id": "5201dda5-1079-4d37-b685-5e8ba7c323c4",
   "metadata": {},
   "source": [
    "# Cross Validation"
   ]
  },
  {
   "cell_type": "markdown",
   "id": "42e339de-4fe1-4d93-b6ff-ad313d43682e",
   "metadata": {},
   "source": [
    "Cross validation is a technique to evaluate a model by splitting the data into a training and a test set.\n",
    "\n",
    "The training set is used to train the model, while the test set is used to evaluate the model's performance.\n",
    "\n",
    "Cross-validation is a statistical technique used in machine learning and data analysis to evaluate how well a model is able to generalize to new data.\n",
    "\n",
    "In a prediction problem, a model is usually given a dataset of known data on which training is run (training dataset), and a dataset of unknown data (or first seen data) against which the model is tested (called the validation dataset or testing set)."
   ]
  },
  {
   "cell_type": "markdown",
   "id": "0853d3a3-8216-4295-8b72-ac91010bf48c",
   "metadata": {},
   "source": [
    "## The basic idea is to divide the available data into two parts:"
   ]
  },
  {
   "cell_type": "markdown",
   "id": "de0242c5-ad4e-4a78-87b0-a57e55be1f45",
   "metadata": {},
   "source": [
    "a training set, which is used to train the model, and\n",
    "\n",
    "a validation set, which is used to evaluate the model's performance."
   ]
  },
  {
   "cell_type": "markdown",
   "id": "00c8cdc2-de5c-46dd-82f2-a65a1b99ede3",
   "metadata": {},
   "source": [
    "## Types of CV:"
   ]
  },
  {
   "cell_type": "markdown",
   "id": "54631649-e888-48b8-9425-00e3bf9ac65f",
   "metadata": {},
   "source": [
    "k-fold cross-validation\n",
    "\n",
    "train-test split\n",
    "\n",
    "leave-one-out cross-validation (LOOCV)\n",
    "\n",
    "stratified cross-validation\n",
    "\n",
    "Times series cross-validation\n",
    "\n",
    "Group cross-validation"
   ]
  },
  {
   "cell_type": "markdown",
   "id": "6835d6e3-a7ae-4d71-806c-42ef7428bc46",
   "metadata": {},
   "source": [
    "## Example of K-fold cross validation"
   ]
  },
  {
   "cell_type": "markdown",
   "id": "f00560c9-ee2a-4592-bacf-0f65b7330bb3",
   "metadata": {},
   "source": [
    "In k-fold cross-validation, the available data is divided into k equal parts or \"folds\". The model is then trained on k-1 of the folds and validated on the remaining fold. This process is repeated k times, with each fold being used once as the validation set. The results from each fold are then averaged to obtain an overall estimate of the model's performance."
   ]
  },
  {
   "cell_type": "markdown",
   "id": "55649832-6bd5-4960-a8a6-5fcd516e4c2b",
   "metadata": {},
   "source": [
    "## Summary:"
   ]
  },
  {
   "cell_type": "markdown",
   "id": "7071026b-b3e9-4123-9f73-f1d03a11123f",
   "metadata": {},
   "source": [
    "In summary, cross-validation is a powerful technique for evaluating the performance of machine learning models and can help to ensure that our models are accurate, reliable, and able to generalize to new data."
   ]
  },
  {
   "cell_type": "code",
   "execution_count": 1,
   "id": "a25f285d-7d74-467e-a795-511552f7cd4c",
   "metadata": {},
   "outputs": [
    {
     "name": "stdout",
     "output_type": "stream",
     "text": [
      "Scores for each fold: [0.93333333 0.96666667 0.93333333 0.93333333 1.        ]\n",
      "Mean score: 0.9533333333333334\n",
      "Standard deviation: 0.02666666666666666\n",
      "CPU times: total: 562 ms\n",
      "Wall time: 2.61 s\n"
     ]
    }
   ],
   "source": [
    "%%time\n",
    "from sklearn.datasets import load_iris\n",
    "from sklearn.model_selection import cross_val_score\n",
    "from sklearn.naive_bayes import GaussianNB\n",
    "\n",
    "# Load the Iris dataset\n",
    "iris = load_iris()\n",
    "\n",
    "# Define the Gaussian Naive Bayes model\n",
    "nb = GaussianNB()\n",
    "\n",
    "# Perform k-fold cross-validation with k=5\n",
    "scores = cross_val_score(nb, iris.data, iris.target, cv=5, scoring='accuracy')\n",
    "\n",
    "# Print the scores for each fold and the mean score\n",
    "print(\"Scores for each fold:\", scores)\n",
    "print(\"Mean score:\", scores.mean())\n",
    "print(\"Standard deviation:\", scores.std())"
   ]
  },
  {
   "cell_type": "markdown",
   "id": "6ee58cdc-b948-41a3-95b9-72da12cbf4b2",
   "metadata": {},
   "source": [
    "# K-fold Cross Validation vs. train_test split"
   ]
  },
  {
   "cell_type": "markdown",
   "id": "742bba08-9f55-4c5a-bda7-461dc7e30b29",
   "metadata": {},
   "source": [
    "K-fold cross-validation and train-test split are two popular techniques used in machine learning to evaluate the performance of a model. Here are some key differences between the two:"
   ]
  },
  {
   "cell_type": "markdown",
   "id": "08b99e3d-6e6d-46bd-b722-9edc40b9dd90",
   "metadata": {},
   "source": [
    "### 1:- Data usage:"
   ]
  },
  {
   "cell_type": "markdown",
   "id": "a16306dc-445c-4fad-9e39-a686b5981c7e",
   "metadata": {},
   "source": [
    "In k-fold cross-validation, the data is split into k equal parts or \"folds\". The model is trained on k-1 of the folds and validated on the remaining fold. This process is repeated k times, with each fold being used once as the validation set.\n",
    "\n",
    "In contrast, train-test split divides the data into two parts: a training set and a testing set, typically with a ratio of 70-30 or 80-20. The model is trained on the training set and evaluated on the testing set."
   ]
  },
  {
   "cell_type": "markdown",
   "id": "b54ddc69-a8e1-46d0-9ec3-02212e03e246",
   "metadata": {},
   "source": [
    "### 2:- Data size:"
   ]
  },
  {
   "cell_type": "markdown",
   "id": "0316710a-8839-466a-ac64-5adbeaf53942",
   "metadata": {},
   "source": [
    "K-fold cross-validation is often used when the dataset is relatively small, as it allows for better use of the available data.\n",
    "\n",
    "In contrast, train-test split is typically used when the dataset is larger, as it is faster to implement and may be sufficient for evaluating the model's performance."
   ]
  },
  {
   "cell_type": "markdown",
   "id": "be3ab0a4-1af0-461c-8d94-df03200608e0",
   "metadata": {},
   "source": [
    "### 3:- Performance estimation:"
   ]
  },
  {
   "cell_type": "markdown",
   "id": "c67221e7-5313-44e3-adab-ebbe257d816c",
   "metadata": {},
   "source": [
    "K-fold cross-validation provides a more accurate estimate of the model's performance, as it evaluates its performance on multiple independent subsets of the data. This helps to reduce the variance of the performance estimate and detect overfitting.\n",
    "\n",
    "In contrast, train-test split provides a less accurate estimate of the model's performance, as it depends on the specific subset of the data used for testing."
   ]
  },
  {
   "cell_type": "markdown",
   "id": "20ff6c32-ce7a-493c-8bc8-d83d167132bf",
   "metadata": {},
   "source": [
    "### 4:- Computation time:"
   ]
  },
  {
   "cell_type": "markdown",
   "id": "599740e5-f42f-4bd7-bbe8-ea687ee3c912",
   "metadata": {},
   "source": [
    "K-fold cross-validation can be computationally expensive, as it requires training and validating the model k times.\n",
    "\n",
    "In contrast, train-test split is faster to implement and requires training and validating the model only once."
   ]
  },
  {
   "cell_type": "markdown",
   "id": "23248128-136c-4bed-8696-521747ca96ef",
   "metadata": {},
   "source": [
    "Overall, k-fold cross-validation is a more robust and accurate technique for evaluating the performance of a machine learning model, especially when the dataset is relatively small.\n",
    "\n",
    "Train-test split is a faster and simpler technique that can be used when the dataset is larger and a quick estimate of the model's performance is needed."
   ]
  },
  {
   "cell_type": "code",
   "execution_count": 2,
   "id": "00d1763c-30af-481b-bd23-dc3bc2033eaf",
   "metadata": {},
   "outputs": [
    {
     "name": "stdout",
     "output_type": "stream",
     "text": [
      "Scores for each fold: [0.55102041 0.55102041 0.59183673 0.65306122 0.54166667]\n",
      "Mean score: 0.5777210884353741\n",
      "Standard deviation: 0.04147568336521195\n"
     ]
    }
   ],
   "source": [
    "from sklearn.model_selection import cross_val_score\n",
    "from sklearn.naive_bayes import GaussianNB\n",
    "from sklearn.model_selection import train_test_split\n",
    "import pandas as pd\n",
    "import numpy as np\n",
    "\n",
    "# Load the tips dataset\n",
    "tips = pd.read_csv('https://raw.githubusercontent.com/mwaskom/seaborn-data/master/tips.csv')\n",
    "\n",
    "# Define the features and target variable\n",
    "X = tips[['total_bill', 'tip', 'size']]\n",
    "y = tips['sex']\n",
    "\n",
    "# Define the Gaussian Naive Bayes model\n",
    "model = GaussianNB()\n",
    "\n",
    "# Perform k-fold cross-validation with k=5\n",
    "scores = cross_val_score(model, X, y, cv=5, scoring='accuracy')\n",
    "\n",
    "# Print the scores for each fold and the mean score\n",
    "print(\"Scores for each fold:\", scores)\n",
    "print(\"Mean score:\", scores.mean())\n",
    "print(\"Standard deviation:\", scores.std())"
   ]
  },
  {
   "cell_type": "markdown",
   "id": "d8e66d40-08d0-443c-b7f8-5a83fde26692",
   "metadata": {},
   "source": [
    "# How to plot k-fold CV?"
   ]
  },
  {
   "cell_type": "code",
   "execution_count": 3,
   "id": "35b45da0-7182-4d86-b64d-13173d218952",
   "metadata": {},
   "outputs": [
    {
     "data": {
      "image/png": "[encoded data removed]",
      "text/plain": [
       "<Figure size 800x600 with 1 Axes>"
      ]
     },
     "metadata": {},
     "output_type": "display_data"
    }
   ],
   "source": [
    "import numpy as np\n",
    "import matplotlib.pyplot as plt\n",
    "from sklearn.datasets import load_iris\n",
    "from sklearn.model_selection import cross_val_score\n",
    "from sklearn.tree import DecisionTreeClassifier\n",
    "\n",
    "# Load the iris dataset\n",
    "iris = load_iris()\n",
    "X = iris.data\n",
    "y = iris.target\n",
    "\n",
    "# Define the decision tree classifier\n",
    "clf = DecisionTreeClassifier()\n",
    "\n",
    "# Perform k-fold cross-validation with k=8\n",
    "scores = cross_val_score(clf, X, y, cv=8)\n",
    "\n",
    "# Plot the results\n",
    "plt.figure(figsize=(8,6))\n",
    "plt.plot(range(1,9), scores, color='blue', linestyle='dashed', marker='o', markerfacecolor='red', markersize=12)\n",
    "plt.title('K-Fold Cross-Validation Results')\n",
    "plt.xlabel('Fold Number')\n",
    "plt.ylabel('Accuracy')\n",
    "plt.ylim([0.5, 1.0])\n",
    "plt.show()"
   ]
  }
 ],
 "metadata": {
  "kernelspec": {
   "display_name": "Python 3 (ipykernel)",
   "language": "python",
   "name": "python3"
  },
  "language_info": {
   "codemirror_mode": {
    "name": "ipython",
    "version": 3
   },
   "file_extension": ".py",
   "mimetype": "text/x-python",
   "name": "python",
   "nbconvert_exporter": "python",
   "pygments_lexer": "ipython3",
   "version": "3.11.7"
  }
 },
 "nbformat": 4,
 "nbformat_minor": 5
}
