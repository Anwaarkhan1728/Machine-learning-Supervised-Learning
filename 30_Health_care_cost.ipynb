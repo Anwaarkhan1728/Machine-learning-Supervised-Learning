{
 "cells": [
  {
   "cell_type": "markdown",
   "id": "2ff50e0b",
   "metadata": {},
   "source": [
    "# import labreries"
   ]
  },
  {
   "cell_type": "code",
   "execution_count": 1,
   "id": "438e4fdb",
   "metadata": {},
   "outputs": [],
   "source": [
    "import pandas as pd\n",
    "import numpy as np\n",
    "import seaborn as sns\n",
    "import matplotlib.pyplot as plt\n",
    "\n",
    "from sklearn.model_selection import train_test_split\n",
    "from sklearn.preprocessing import StandardScaler, OneHotEncoder\n",
    "from sklearn.compose import ColumnTransformer\n",
    "from sklearn.pipeline import Pipeline\n",
    "from sklearn.impute import SimpleImputer"
   ]
  },
  {
   "cell_type": "markdown",
   "id": "d3bed108",
   "metadata": {},
   "source": [
    "# loding the Data set"
   ]
  },
  {
   "cell_type": "code",
   "execution_count": 2,
   "id": "ac91925f",
   "metadata": {},
   "outputs": [
    {
     "data": {
      "text/html": [
       "<div>\n",
       "<style scoped>\n",
       "    .dataframe tbody tr th:only-of-type {\n",
       "        vertical-align: middle;\n",
       "    }\n",
       "\n",
       "    .dataframe tbody tr th {\n",
       "        vertical-align: top;\n",
       "    }\n",
       "\n",
       "    .dataframe thead th {\n",
       "        text-align: right;\n",
       "    }\n",
       "</style>\n",
       "<table border=\"1\" class=\"dataframe\">\n",
       "  <thead>\n",
       "    <tr style=\"text-align: right;\">\n",
       "      <th></th>\n",
       "      <th>region</th>\n",
       "      <th>smoker</th>\n",
       "      <th>sex</th>\n",
       "      <th>age</th>\n",
       "      <th>children</th>\n",
       "      <th>bmi</th>\n",
       "      <th>expenses</th>\n",
       "    </tr>\n",
       "  </thead>\n",
       "  <tbody>\n",
       "    <tr>\n",
       "      <th>0</th>\n",
       "      <td>southwest</td>\n",
       "      <td>yes</td>\n",
       "      <td>female</td>\n",
       "      <td>19</td>\n",
       "      <td>0</td>\n",
       "      <td>27.9</td>\n",
       "      <td>16884.92</td>\n",
       "    </tr>\n",
       "    <tr>\n",
       "      <th>1</th>\n",
       "      <td>southeast</td>\n",
       "      <td>no</td>\n",
       "      <td>male</td>\n",
       "      <td>18</td>\n",
       "      <td>1</td>\n",
       "      <td>33.8</td>\n",
       "      <td>1725.55</td>\n",
       "    </tr>\n",
       "    <tr>\n",
       "      <th>2</th>\n",
       "      <td>southeast</td>\n",
       "      <td>no</td>\n",
       "      <td>male</td>\n",
       "      <td>28</td>\n",
       "      <td>3</td>\n",
       "      <td>33.0</td>\n",
       "      <td>4449.46</td>\n",
       "    </tr>\n",
       "    <tr>\n",
       "      <th>3</th>\n",
       "      <td>northwest</td>\n",
       "      <td>no</td>\n",
       "      <td>male</td>\n",
       "      <td>33</td>\n",
       "      <td>0</td>\n",
       "      <td>22.7</td>\n",
       "      <td>21984.47</td>\n",
       "    </tr>\n",
       "    <tr>\n",
       "      <th>4</th>\n",
       "      <td>northwest</td>\n",
       "      <td>no</td>\n",
       "      <td>male</td>\n",
       "      <td>32</td>\n",
       "      <td>0</td>\n",
       "      <td>28.9</td>\n",
       "      <td>3866.86</td>\n",
       "    </tr>\n",
       "    <tr>\n",
       "      <th>...</th>\n",
       "      <td>...</td>\n",
       "      <td>...</td>\n",
       "      <td>...</td>\n",
       "      <td>...</td>\n",
       "      <td>...</td>\n",
       "      <td>...</td>\n",
       "      <td>...</td>\n",
       "    </tr>\n",
       "    <tr>\n",
       "      <th>1333</th>\n",
       "      <td>northwest</td>\n",
       "      <td>no</td>\n",
       "      <td>male</td>\n",
       "      <td>50</td>\n",
       "      <td>3</td>\n",
       "      <td>31.0</td>\n",
       "      <td>10600.55</td>\n",
       "    </tr>\n",
       "    <tr>\n",
       "      <th>1334</th>\n",
       "      <td>northeast</td>\n",
       "      <td>no</td>\n",
       "      <td>female</td>\n",
       "      <td>18</td>\n",
       "      <td>0</td>\n",
       "      <td>31.9</td>\n",
       "      <td>2205.98</td>\n",
       "    </tr>\n",
       "    <tr>\n",
       "      <th>1335</th>\n",
       "      <td>southeast</td>\n",
       "      <td>no</td>\n",
       "      <td>female</td>\n",
       "      <td>18</td>\n",
       "      <td>0</td>\n",
       "      <td>36.9</td>\n",
       "      <td>1629.83</td>\n",
       "    </tr>\n",
       "    <tr>\n",
       "      <th>1336</th>\n",
       "      <td>southwest</td>\n",
       "      <td>no</td>\n",
       "      <td>female</td>\n",
       "      <td>21</td>\n",
       "      <td>0</td>\n",
       "      <td>25.8</td>\n",
       "      <td>2007.95</td>\n",
       "    </tr>\n",
       "    <tr>\n",
       "      <th>1337</th>\n",
       "      <td>northwest</td>\n",
       "      <td>yes</td>\n",
       "      <td>female</td>\n",
       "      <td>61</td>\n",
       "      <td>0</td>\n",
       "      <td>29.1</td>\n",
       "      <td>29141.36</td>\n",
       "    </tr>\n",
       "  </tbody>\n",
       "</table>\n",
       "<p>1338 rows × 7 columns</p>\n",
       "</div>"
      ],
      "text/plain": [
       "         region smoker     sex  age  children   bmi  expenses\n",
       "0     southwest    yes  female   19         0  27.9  16884.92\n",
       "1     southeast     no    male   18         1  33.8   1725.55\n",
       "2     southeast     no    male   28         3  33.0   4449.46\n",
       "3     northwest     no    male   33         0  22.7  21984.47\n",
       "4     northwest     no    male   32         0  28.9   3866.86\n",
       "...         ...    ...     ...  ...       ...   ...       ...\n",
       "1333  northwest     no    male   50         3  31.0  10600.55\n",
       "1334  northeast     no  female   18         0  31.9   2205.98\n",
       "1335  southeast     no  female   18         0  36.9   1629.83\n",
       "1336  southwest     no  female   21         0  25.8   2007.95\n",
       "1337  northwest    yes  female   61         0  29.1  29141.36\n",
       "\n",
       "[1338 rows x 7 columns]"
      ]
     },
     "execution_count": 2,
     "metadata": {},
     "output_type": "execute_result"
    }
   ],
   "source": [
    "df=pd.read_csv(\"E:\\data\\health_care_cost.csv\")\n",
    "df"
   ]
  },
  {
   "cell_type": "markdown",
   "id": "aee7f88c",
   "metadata": {},
   "source": [
    "# Data Inspection and Summary"
   ]
  },
  {
   "cell_type": "code",
   "execution_count": 3,
   "id": "289a6482-7aee-4218-8696-d7b6232a9551",
   "metadata": {},
   "outputs": [
    {
     "name": "stdout",
     "output_type": "stream",
     "text": [
      "Index(['region', 'smoker', 'sex', 'age', 'children', 'bmi', 'expenses'], dtype='object')\n"
     ]
    }
   ],
   "source": [
    "print(df.columns)"
   ]
  },
  {
   "cell_type": "code",
   "execution_count": 4,
   "id": "a01df61a-ed67-4df7-b6d9-09c00c70c473",
   "metadata": {},
   "outputs": [
    {
     "name": "stdout",
     "output_type": "stream",
     "text": [
      "      region smoker     sex  age  children   bmi  expenses\n",
      "0  southwest    yes  female   19         0  27.9  16884.92\n",
      "1  southeast     no    male   18         1  33.8   1725.55\n",
      "2  southeast     no    male   28         3  33.0   4449.46\n",
      "3  northwest     no    male   33         0  22.7  21984.47\n",
      "4  northwest     no    male   32         0  28.9   3866.86\n",
      "::::::::::::::::::::::::::::\n",
      "::::::::::::::::::::::::::::\n",
      "::::::::::::::::::::::::::::\n",
      "(1338, 7)\n",
      "::::::::::::::::::::::::::::\n",
      "::::::::::::::::::::::::::::\n",
      "::::::::::::::::::::::::::::\n",
      "region       object\n",
      "smoker       object\n",
      "sex          object\n",
      "age           int64\n",
      "children      int64\n",
      "bmi         float64\n",
      "expenses    float64\n",
      "dtype: object\n"
     ]
    }
   ],
   "source": [
    "# Display the first few rows\n",
    "print(df.head())\n",
    "print(\"::::::::::::::::::::::::::::\")\n",
    "print(\"::::::::::::::::::::::::::::\")\n",
    "print(\"::::::::::::::::::::::::::::\")\n",
    "# Check the shape of the DataFrame\n",
    "print(df.shape)\n",
    "print(\"::::::::::::::::::::::::::::\")\n",
    "print(\"::::::::::::::::::::::::::::\")\n",
    "print(\"::::::::::::::::::::::::::::\")\n",
    "# Check the data types of each column\n",
    "print(df.dtypes)"
   ]
  },
  {
   "cell_type": "code",
   "execution_count": 5,
   "id": "85b6293d-81d6-4d27-9f1d-fd8573156fe8",
   "metadata": {},
   "outputs": [
    {
     "name": "stdout",
     "output_type": "stream",
     "text": [
      "region      0\n",
      "smoker      0\n",
      "sex         0\n",
      "age         0\n",
      "children    0\n",
      "bmi         0\n",
      "expenses    0\n",
      "dtype: int64\n"
     ]
    }
   ],
   "source": [
    "# Check for missing values\n",
    "print(df.isnull().sum())"
   ]
  },
  {
   "cell_type": "code",
   "execution_count": 6,
   "id": "7885aadd-871d-4926-81c5-3b5a5d4e92fa",
   "metadata": {},
   "outputs": [
    {
     "name": "stdout",
     "output_type": "stream",
     "text": [
      "<class 'pandas.core.frame.DataFrame'>\n",
      "RangeIndex: 1338 entries, 0 to 1337\n",
      "Data columns (total 7 columns):\n",
      " #   Column    Non-Null Count  Dtype  \n",
      "---  ------    --------------  -----  \n",
      " 0   region    1338 non-null   object \n",
      " 1   smoker    1338 non-null   object \n",
      " 2   sex       1338 non-null   object \n",
      " 3   age       1338 non-null   int64  \n",
      " 4   children  1338 non-null   int64  \n",
      " 5   bmi       1338 non-null   float64\n",
      " 6   expenses  1338 non-null   float64\n",
      "dtypes: float64(2), int64(2), object(3)\n",
      "memory usage: 73.3+ KB\n"
     ]
    }
   ],
   "source": [
    "df.info()"
   ]
  },
  {
   "cell_type": "markdown",
   "id": "8abc7371-4a5f-4707-85a2-7e7f11c68eb1",
   "metadata": {},
   "source": [
    "# Feature Scaling"
   ]
  },
  {
   "cell_type": "code",
   "execution_count": 7,
   "id": "72cfe49a-2890-4a0d-8b49-a0dd2c965595",
   "metadata": {},
   "outputs": [],
   "source": [
    "from sklearn.preprocessing import StandardScaler\n",
    "\n",
    "# List of numerical columns to scale\n",
    "numeric_cols = ['age', 'children', 'bmi', 'expenses']\n",
    "\n",
    "# Initialize the scaler\n",
    "scaler = StandardScaler()\n",
    "\n",
    "# Fit and transform the numerical columns\n",
    "df[numeric_cols] = scaler.fit_transform(df[numeric_cols])\n"
   ]
  },
  {
   "cell_type": "markdown",
   "id": "0dbff7b2-435a-4c91-8da7-46941ae025b0",
   "metadata": {},
   "source": [
    "# Handle Outliers"
   ]
  },
  {
   "cell_type": "code",
   "execution_count": 8,
   "id": "3c237ad0-eff7-4632-8890-c8370b3e25ff",
   "metadata": {},
   "outputs": [],
   "source": [
    "from scipy import stats\n",
    "\n",
    "# Assuming df is your DataFrame\n",
    "# Calculate Z-scores\n",
    "z_scores = np.abs(stats.zscore(df.select_dtypes(include=[np.number])))\n",
    "\n",
    "# Define a threshold for Z-scores (typically 3 is used)\n",
    "threshold = 3\n",
    "\n",
    "# Create a boolean mask for rows to keep\n",
    "mask = (z_scores < threshold).all(axis=1)\n",
    "\n",
    "# Apply the mask to the DataFrame\n",
    "df_cleaned = df[mask]\n"
   ]
  },
  {
   "cell_type": "code",
   "execution_count": 9,
   "id": "c8a971bc-b484-40f0-88b1-51b6e1ec2ecb",
   "metadata": {},
   "outputs": [],
   "source": [
    "# Function to remove outliers based on IQR\n",
    "def remove_outliers_iqr(df):\n",
    "    # Calculate Q1 (25th percentile) and Q3 (75th percentile) for each numeric column\n",
    "    Q1 = df.quantile(0.25)\n",
    "    Q3 = df.quantile(0.75)\n",
    "    \n",
    "    # Compute the IQR (Interquartile Range)\n",
    "    IQR = Q3 - Q1\n",
    "    \n",
    "    # Define a condition to filter out outliers\n",
    "    condition = ~((df < (Q1 - 1.5 * IQR)) | (df > (Q3 + 1.5 * IQR))).any(axis=1)\n",
    "    \n",
    "    # Apply the condition to filter out outliers\n",
    "    df_cleaned = df[condition]\n",
    "    \n",
    "    return df_cleaned\n",
    "\n",
    "# Apply the function to your DataFrame\n",
    "df_cleaned = remove_outliers_iqr(df.select_dtypes(include=[np.number]))\n"
   ]
  },
  {
   "cell_type": "markdown",
   "id": "20203823-085e-4c64-b120-d6bd1d979b48",
   "metadata": {},
   "source": [
    "# Separate features and target"
   ]
  },
  {
   "cell_type": "code",
   "execution_count": 10,
   "id": "5f1a290e-c589-4203-b337-a627621a9412",
   "metadata": {},
   "outputs": [],
   "source": [
    "# Separate features and target\n",
    "X = df.drop('expenses', axis=1)\n",
    "y = df['expenses']\n",
    "\n",
    "# Define preprocessing for numeric features (age, bmi, children)\n",
    "numeric_features = ['age', 'bmi', 'children']\n",
    "numeric_transformer = Pipeline(steps=[\n",
    "    ('imputer', SimpleImputer(strategy='mean')),  # Fill missing values with the mean\n",
    "    ('scaler', StandardScaler())  # Scale numeric features\n",
    "])\n",
    "\n",
    "# Define preprocessing for categorical features (region, smoker, sex)\n",
    "categorical_features = ['region', 'smoker', 'sex']\n",
    "categorical_transformer = Pipeline(steps=[\n",
    "    ('imputer', SimpleImputer(strategy='most_frequent')),  # Fill missing values with the most frequent\n",
    "    ('onehot', OneHotEncoder(drop='first'))  # One-hot encode categorical features\n",
    "])"
   ]
  },
  {
   "cell_type": "code",
   "execution_count": 11,
   "id": "73a43e86-8609-4af3-8a2d-82c361f821c9",
   "metadata": {},
   "outputs": [],
   "source": [
    "# Combine preprocessing steps\n",
    "preprocessor = ColumnTransformer(transformers=[\n",
    "        ('num', numeric_transformer, numeric_features),\n",
    "        ('cat', categorical_transformer, categorical_features)\n",
    "    ])\n",
    "\n",
    "# Split the data into training and testing sets\n",
    "X_train, X_test, y_train, y_test = train_test_split(X, y, test_size=0.3, random_state=42)"
   ]
  },
  {
   "cell_type": "code",
   "execution_count": 12,
   "id": "b38b9a57-064f-4eb8-ae9c-47f14344b0d3",
   "metadata": {},
   "outputs": [
    {
     "name": "stdout",
     "output_type": "stream",
     "text": [
      "Linear Regression\n",
      "MSE: 0.23049307647353967\n",
      "R^2 Score: 0.7696351080608883\n"
     ]
    }
   ],
   "source": [
    "from sklearn.linear_model import LinearRegression\n",
    "from sklearn.metrics import mean_squared_error, r2_score\n",
    "\n",
    "# Create a pipeline that includes preprocessing and the model\n",
    "lin_reg_pipeline = Pipeline(steps=[('preprocessor', preprocessor),\n",
    "                                   ('model', LinearRegression())])\n",
    "\n",
    "# Train the model\n",
    "lin_reg_pipeline.fit(X_train, y_train)\n",
    "\n",
    "# Predict on the test set\n",
    "y_pred = lin_reg_pipeline.predict(X_test)\n",
    "\n",
    "# Evaluate the model\n",
    "print(\"Linear Regression\")\n",
    "print(\"MSE:\", mean_squared_error(y_test, y_pred))\n",
    "print(\"R^2 Score:\", r2_score(y_test, y_pred))\n"
   ]
  },
  {
   "cell_type": "markdown",
   "id": "2decb2b7-a8f6-4ee9-ac29-adc2e00a415a",
   "metadata": {},
   "source": [
    "# LR"
   ]
  },
  {
   "cell_type": "code",
   "execution_count": 13,
   "id": "aaad1440-1ab5-4a2b-b592-d588dc1df1a5",
   "metadata": {},
   "outputs": [
    {
     "name": "stdout",
     "output_type": "stream",
     "text": [
      "Numeric Features: ['age', 'bmi', 'children']\n",
      "Categorical Features: ['region', 'smoker', 'sex']\n",
      "Columns in DataFrame: Index(['region', 'smoker', 'sex', 'age', 'children', 'bmi', 'expenses'], dtype='object')\n",
      "Linear Regression\n",
      "MSE: 0.23049307647353967\n",
      "R^2 Score: 0.7696351080608883\n"
     ]
    }
   ],
   "source": [
    "from sklearn.linear_model import LinearRegression\n",
    "from sklearn.metrics import mean_squared_error, r2_score\n",
    "\n",
    "# Ensure the column names are correctly specified\n",
    "numeric_features = ['age', 'bmi', 'children']\n",
    "categorical_features = ['region', 'smoker', 'sex']\n",
    "\n",
    "# Check for correct column names in DataFrame\n",
    "print(\"Numeric Features:\", numeric_features)\n",
    "print(\"Categorical Features:\", categorical_features)\n",
    "print(\"Columns in DataFrame:\", df.columns)\n",
    "\n",
    "# Define the preprocessing steps again\n",
    "numeric_transformer = Pipeline(steps=[\n",
    "    ('imputer', SimpleImputer(strategy='mean')),\n",
    "    ('scaler', StandardScaler())\n",
    "])\n",
    "\n",
    "categorical_transformer = Pipeline(steps=[\n",
    "    ('imputer', SimpleImputer(strategy='most_frequent')),\n",
    "    ('onehot', OneHotEncoder(drop='first'))\n",
    "])\n",
    "\n",
    "preprocessor = ColumnTransformer(\n",
    "    transformers=[\n",
    "        ('num', numeric_transformer, numeric_features),\n",
    "        ('cat', categorical_transformer, categorical_features)\n",
    "    ])\n",
    "\n",
    "# Create the pipeline\n",
    "lin_reg_pipeline = Pipeline(steps=[('preprocessor', preprocessor),\n",
    "                                   ('model', LinearRegression())])\n",
    "\n",
    "# Train the model\n",
    "lin_reg_pipeline.fit(X_train, y_train)\n",
    "\n",
    "# Predict on the test set\n",
    "y_pred = lin_reg_pipeline.predict(X_test)\n",
    "\n",
    "# Evaluate the model\n",
    "print(\"Linear Regression\")\n",
    "print(\"MSE:\", mean_squared_error(y_test, y_pred))\n",
    "print(\"R^2 Score:\", r2_score(y_test, y_pred))\n"
   ]
  },
  {
   "cell_type": "markdown",
   "id": "dcc9001b-9a08-4ead-b3dd-07964c89bf0a",
   "metadata": {},
   "source": [
    "# Ridge Regression"
   ]
  },
  {
   "cell_type": "code",
   "execution_count": 14,
   "id": "57beeec7-e0d6-4d9c-b84f-5fe9accf1ff5",
   "metadata": {},
   "outputs": [
    {
     "name": "stdout",
     "output_type": "stream",
     "text": [
      "\n",
      "Ridge Regression\n",
      "MSE: 0.23073372071569012\n",
      "R^2 Score: 0.7693945976486586\n"
     ]
    }
   ],
   "source": [
    "from sklearn.linear_model import Ridge\n",
    "\n",
    "ridge_pipeline = Pipeline(steps=[('preprocessor', preprocessor),\n",
    "                                 ('model', Ridge(alpha=1.0))])\n",
    "\n",
    "ridge_pipeline.fit(X_train, y_train)\n",
    "y_pred_ridge = ridge_pipeline.predict(X_test)\n",
    "\n",
    "print(\"\\nRidge Regression\")\n",
    "print(\"MSE:\", mean_squared_error(y_test, y_pred_ridge))\n",
    "print(\"R^2 Score:\", r2_score(y_test, y_pred_ridge))\n"
   ]
  },
  {
   "cell_type": "markdown",
   "id": "aee84fd0-3cfe-4a68-87a3-d3e21a4bac74",
   "metadata": {},
   "source": [
    "# Lasso Regression"
   ]
  },
  {
   "cell_type": "code",
   "execution_count": 15,
   "id": "4c52ad59-8802-4e74-af3c-dd1a965cdf54",
   "metadata": {},
   "outputs": [
    {
     "name": "stdout",
     "output_type": "stream",
     "text": [
      "\n",
      "Lasso Regression\n",
      "MSE: 0.32051856769777376\n",
      "R^2 Score: 0.6796596828770568\n"
     ]
    }
   ],
   "source": [
    "from sklearn.linear_model import Lasso\n",
    "\n",
    "lasso_pipeline = Pipeline(steps=[('preprocessor', preprocessor),\n",
    "                                 ('model', Lasso(alpha=0.1))])\n",
    "\n",
    "lasso_pipeline.fit(X_train, y_train)\n",
    "y_pred_lasso = lasso_pipeline.predict(X_test)\n",
    "\n",
    "print(\"\\nLasso Regression\")\n",
    "print(\"MSE:\", mean_squared_error(y_test, y_pred_lasso))\n",
    "print(\"R^2 Score:\", r2_score(y_test, y_pred_lasso))\n"
   ]
  },
  {
   "cell_type": "markdown",
   "id": "8b24864a-6a06-482d-ab39-e1b6d253a886",
   "metadata": {},
   "source": [
    "# Decision Tree Regression"
   ]
  },
  {
   "cell_type": "code",
   "execution_count": 16,
   "id": "a3823d9f-362e-4222-b198-d5bd52c57cf5",
   "metadata": {},
   "outputs": [
    {
     "name": "stdout",
     "output_type": "stream",
     "text": [
      "\n",
      "Decision Tree Regression\n",
      "MSE: 0.2469967623715298\n",
      "R^2 Score: 0.7531406003877956\n"
     ]
    }
   ],
   "source": [
    "from sklearn.tree import DecisionTreeRegressor\n",
    "\n",
    "tree_pipeline = Pipeline(steps=[('preprocessor', preprocessor),\n",
    "                                ('model', DecisionTreeRegressor(random_state=42))])\n",
    "\n",
    "tree_pipeline.fit(X_train, y_train)\n",
    "y_pred_tree = tree_pipeline.predict(X_test)\n",
    "\n",
    "print(\"\\nDecision Tree Regression\")\n",
    "print(\"MSE:\", mean_squared_error(y_test, y_pred_tree))\n",
    "print(\"R^2 Score:\", r2_score(y_test, y_pred_tree))\n"
   ]
  },
  {
   "cell_type": "markdown",
   "id": "bb56d4b6-2b89-4970-a280-7751907885d1",
   "metadata": {},
   "source": [
    "# Random Forest Regression"
   ]
  },
  {
   "cell_type": "code",
   "execution_count": 17,
   "id": "4db63fef-9d94-4320-acff-dc73f0716c53",
   "metadata": {},
   "outputs": [
    {
     "name": "stdout",
     "output_type": "stream",
     "text": [
      "\n",
      "Random Forest Regression\n",
      "MSE: 0.14726085775910136\n",
      "R^2 Score: 0.852821038689938\n"
     ]
    }
   ],
   "source": [
    "from sklearn.ensemble import RandomForestRegressor\n",
    "\n",
    "forest_pipeline = Pipeline(steps=[('preprocessor', preprocessor),\n",
    "                                  ('model', RandomForestRegressor(n_estimators=100, random_state=42))])\n",
    "\n",
    "forest_pipeline.fit(X_train, y_train)\n",
    "y_pred_forest = forest_pipeline.predict(X_test)\n",
    "\n",
    "print(\"\\nRandom Forest Regression\")\n",
    "print(\"MSE:\", mean_squared_error(y_test, y_pred_forest))\n",
    "print(\"R^2 Score:\", r2_score(y_test, y_pred_forest))\n"
   ]
  },
  {
   "cell_type": "markdown",
   "id": "3f7378da-8ce4-44e2-a555-8571508f022a",
   "metadata": {},
   "source": [
    "# Support Vector Regression (SVR)"
   ]
  },
  {
   "cell_type": "code",
   "execution_count": 18,
   "id": "3e017794-162c-44ff-94a4-6f14b6f89795",
   "metadata": {},
   "outputs": [
    {
     "name": "stdout",
     "output_type": "stream",
     "text": [
      "\n",
      "Support Vector Regression (SVR)\n",
      "MSE: 0.14344994530528102\n",
      "R^2 Score: 0.8566298317740743\n"
     ]
    }
   ],
   "source": [
    "from sklearn.svm import SVR\n",
    "\n",
    "svr_pipeline = Pipeline(steps=[('preprocessor', preprocessor),\n",
    "                               ('model', SVR(kernel='rbf', C=100, gamma=0.1, epsilon=.1))])\n",
    "\n",
    "svr_pipeline.fit(X_train, y_train)\n",
    "y_pred_svr = svr_pipeline.predict(X_test)\n",
    "\n",
    "print(\"\\nSupport Vector Regression (SVR)\")\n",
    "print(\"MSE:\", mean_squared_error(y_test, y_pred_svr))\n",
    "print(\"R^2 Score:\", r2_score(y_test, y_pred_svr))\n"
   ]
  },
  {
   "cell_type": "markdown",
   "id": "7e47e5df-dd92-4aa6-93b9-edf88b87e740",
   "metadata": {},
   "source": [
    "# Store model results"
   ]
  },
  {
   "cell_type": "code",
   "execution_count": 19,
   "id": "0549bfd4-5a83-4364-91a7-e48ea17e0299",
   "metadata": {},
   "outputs": [],
   "source": [
    "# Store model results\n",
    "results = {\n",
    "    'Linear Regression': {'MSE': mean_squared_error(y_test, y_pred), 'R^2': r2_score(y_test, y_pred)},\n",
    "    'Ridge Regression': {'MSE': mean_squared_error(y_test, y_pred_ridge), 'R^2': r2_score(y_test, y_pred_ridge)},\n",
    "    'Lasso Regression': {'MSE': mean_squared_error(y_test, y_pred_lasso), 'R^2': r2_score(y_test, y_pred_lasso)},\n",
    "    'Decision Tree Regression': {'MSE': mean_squared_error(y_test, y_pred_tree), 'R^2': r2_score(y_test, y_pred_tree)},\n",
    "    'Random Forest Regression': {'MSE': mean_squared_error(y_test, y_pred_forest), 'R^2': r2_score(y_test, y_pred_forest)},\n",
    "    'SVR': {'MSE': mean_squared_error(y_test, y_pred_svr), 'R^2': r2_score(y_test, y_pred_svr)}\n",
    "}\n",
    "\n",
    "# Extract model names, MSE, and R² values\n",
    "models = list(results.keys())\n",
    "mse_values = [results[model]['MSE'] for model in models]\n",
    "r2_values = [results[model]['R^2'] for model in models]\n",
    "\n",
    "x = np.arange(len(models))  # label locations\n",
    "width = 0.35  # width of the bars\n",
    "\n"
   ]
  },
  {
   "cell_type": "markdown",
   "id": "1699aab1-1a67-45c0-8f43-c17778db48c8",
   "metadata": {},
   "source": [
    "# Find the best model based on MSE"
   ]
  },
  {
   "cell_type": "code",
   "execution_count": 20,
   "id": "5a874fc8-f15a-4f11-81b2-e1c58ea4ae38",
   "metadata": {},
   "outputs": [
    {
     "name": "stdout",
     "output_type": "stream",
     "text": [
      "Best Model based on MSE: SVR with MSE: 0.14344994530528102\n",
      "Best Model based on R² Score: SVR with R² Score: 0.8566298317740743\n"
     ]
    },
    {
     "data": {
      "image/png": "[encoded data removed]",
      "text/plain": [
       "<Figure size 1200x800 with 2 Axes>"
      ]
     },
     "metadata": {},
     "output_type": "display_data"
    }
   ],
   "source": [
    "# Find the best model based on MSE\n",
    "best_mse_model = min(results, key=lambda x: results[x]['MSE'])\n",
    "best_mse_value = results[best_mse_model]['MSE']\n",
    "\n",
    "# Find the best model based on R² Score\n",
    "best_r2_model = max(results, key=lambda x: results[x]['R^2'])\n",
    "best_r2_value = results[best_r2_model]['R^2']\n",
    "\n",
    "print(f\"Best Model based on MSE: {best_mse_model} with MSE: {best_mse_value}\")\n",
    "print(f\"Best Model based on R² Score: {best_r2_model} with R² Score: {best_r2_value}\")\n",
    "\n",
    "# Highlight the best models in the plot\n",
    "fig, ax1 = plt.subplots(figsize=(12, 8))\n",
    "\n",
    "# Plot MSE\n",
    "ax1.bar(x - width/2, mse_values, width, label='MSE', color='skyblue')\n",
    "ax1.set_xlabel('Models')\n",
    "ax1.set_ylabel('Mean Squared Error')\n",
    "ax1.set_title('Model Comparison: MSE and R²')\n",
    "ax1.set_xticks(x)\n",
    "ax1.set_xticklabels(models, rotation=45, ha='right')\n",
    "ax1.legend(loc='upper left')\n",
    "\n",
    "# Highlight the best MSE model\n",
    "best_mse_index = models.index(best_mse_model)\n",
    "ax1.bar(best_mse_index - width/2, mse_values[best_mse_index], width, color='orange', label='Best MSE Model')\n",
    "\n",
    "# Plot R²\n",
    "ax2 = ax1.twinx()\n",
    "ax2.bar(x + width/2, r2_values, width, label='R²', color='lightgreen')\n",
    "ax2.set_ylabel('R² Score')\n",
    "ax2.legend(loc='upper right')\n",
    "\n",
    "# Highlight the best R² model\n",
    "best_r2_index = models.index(best_r2_model)\n",
    "ax2.bar(best_r2_index + width/2, r2_values[best_r2_index], width, color='yellow', label='Best R² Model')\n",
    "\n",
    "fig.tight_layout()\n",
    "plt.show()"
   ]
  },
  {
   "cell_type": "code",
   "execution_count": null,
   "id": "dc3beff2-2cff-4e92-aa57-136ccaef60f1",
   "metadata": {},
   "outputs": [],
   "source": []
  },
  {
   "cell_type": "code",
   "execution_count": 21,
   "id": "b2ab4691-462c-41d5-9a1d-6fe8271066c6",
   "metadata": {},
   "outputs": [
    {
     "name": "stdout",
     "output_type": "stream",
     "text": [
      "An error occurred: [Errno 2] No such file or directory: 'C:/Users/ustb/ml/best_svr_model.joblib'\n"
     ]
    }
   ],
   "source": [
    "from joblib import load\n",
    "\n",
    "filename = 'C:/Users/ustb/ml/best_svr_model.joblib'\n",
    "\n",
    "# Load the model from the joblib file\n",
    "try:\n",
    "    loaded_svr_model = load(filename)\n",
    "    print(\"SVR model loaded successfully.\")\n",
    "except Exception as e:\n",
    "    print(f\"An error occurred: {e}\")\n"
   ]
  },
  {
   "cell_type": "code",
   "execution_count": null,
   "id": "ac6ae4f1-217a-4ac7-9fe6-c999e663a017",
   "metadata": {},
   "outputs": [],
   "source": []
  },
  {
   "cell_type": "code",
   "execution_count": 22,
   "id": "8c1bb8c9-6790-40ef-a60d-8bd66e648e65",
   "metadata": {},
   "outputs": [
    {
     "name": "stdout",
     "output_type": "stream",
     "text": [
      "Best SVR model saved to C:/Users/ustb/ml/best_svr_model.joblib\n"
     ]
    }
   ],
   "source": [
    "from joblib import dump\n",
    "\n",
    "filename = 'C:/Users/ustb/ml/best_svr_model.joblib'\n",
    "\n",
    "# Save the SVR model using joblib\n",
    "try:\n",
    "    dump(svr_pipeline, filename)\n",
    "    print(f\"Best SVR model saved to {filename}\")\n",
    "except Exception as e:\n",
    "    print(f\"An error occurred while saving: {e}\")\n"
   ]
  },
  {
   "cell_type": "code",
   "execution_count": null,
   "id": "82f7b51a-f313-4cba-b3a6-ba745cd57fd8",
   "metadata": {},
   "outputs": [],
   "source": []
  },
  {
   "cell_type": "code",
   "execution_count": 23,
   "id": "1bda5058-d377-4b6b-970a-f244f7296f00",
   "metadata": {},
   "outputs": [],
   "source": [
    "import pickle\n",
    "\n",
    "# Save the SVR model with pickle\n",
    "with open('C:/Users/ustb/ml/best_svr_model.pkl', 'wb') as file:\n",
    "    pickle.dump(svr_pipeline, file)\n",
    "\n",
    "# Load the SVR model with pickle\n",
    "with open('C:/Users/ustb/ml/best_svr_model.pkl', 'rb') as file:\n",
    "    loaded_svr_model = pickle.load(file)\n"
   ]
  }
 ],
 "metadata": {
  "kernelspec": {
   "display_name": "Python 3 (ipykernel)",
   "language": "python",
   "name": "python3"
  },
  "language_info": {
   "codemirror_mode": {
    "name": "ipython",
    "version": 3
   },
   "file_extension": ".py",
   "mimetype": "text/x-python",
   "name": "python",
   "nbconvert_exporter": "python",
   "pygments_lexer": "ipython3",
   "version": "3.11.7"
  }
 },
 "nbformat": 4,
 "nbformat_minor": 5
}
