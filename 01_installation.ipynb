{
 "cells": [
  {
   "cell_type": "markdown",
   "id": "edb44412-8b93-433f-9137-723b5a12adc6",
   "metadata": {},
   "source": [
    "# Steps:"
   ]
  },
  {
   "cell_type": "markdown",
   "id": "8a9dfafc-862d-46ba-9872-403cb88358ab",
   "metadata": {},
   "source": [
    "1:- Creata a new conda environment python_ml\n",
    "\n",
    "2:- install the following packages:\n",
    "\n",
    "python conda install python\n",
    "\n",
    "pandas\n",
    "\n",
    "numpy\n",
    "\n",
    "matplotlib\n",
    "\n",
    "seaborn\n",
    "\n",
    "scipy\n",
    "\n",
    "scikit-learn\n",
    "\n",
    "jupyter\n",
    "\n",
    "openpyxl\n",
    "\n",
    "plotly\n",
    "\n",
    "pip install pandas numpy matplotlib seaborn scipy scikit-learn jupyter openpyxl plotly"
   ]
  },
  {
   "cell_type": "code",
   "execution_count": 1,
   "id": "3e62c23b-e4fe-4da2-a7cc-9b118362662c",
   "metadata": {},
   "outputs": [
    {
     "data": {
      "text/plain": [
       "array([0.5, 0.5])"
      ]
     },
     "execution_count": 1,
     "metadata": {},
     "output_type": "execute_result"
    }
   ],
   "source": [
    "import pandas as pd\n",
    "import numpy as np \n",
    "import matplotlib.pyplot as plt \n",
    "import seaborn as sns\n",
    "\n",
    "from sklearn import linear_model\n",
    "reg = linear_model.LinearRegression()\n",
    "reg.fit([[0, 0], [1, 1], [2, 2]], [0, 1, 2])\n",
    "reg.coef_"
   ]
  },
  {
   "cell_type": "code",
   "execution_count": null,
   "id": "387f6075-2200-4f9b-93ad-f7d822d97d78",
   "metadata": {},
   "outputs": [],
   "source": []
  }
 ],
 "metadata": {
  "kernelspec": {
   "display_name": "Python 3 (ipykernel)",
   "language": "python",
   "name": "python3"
  },
  "language_info": {
   "codemirror_mode": {
    "name": "ipython",
    "version": 3
   },
   "file_extension": ".py",
   "mimetype": "text/x-python",
   "name": "python",
   "nbconvert_exporter": "python",
   "pygments_lexer": "ipython3",
   "version": "3.11.7"
  }
 },
 "nbformat": 4,
 "nbformat_minor": 5
}
