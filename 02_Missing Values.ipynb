{
 "cells": [
  {
   "cell_type": "markdown",
   "id": "56388abf-46b8-4820-be28-555600506279",
   "metadata": {},
   "source": [
    "# Dealing with Missing Values"
   ]
  },
  {
   "cell_type": "code",
   "execution_count": 27,
   "id": "56b1a7ed-864a-4cd4-b5df-c6cc3510ba01",
   "metadata": {},
   "outputs": [],
   "source": [
    "# import libraries\n",
    "import pandas as pd\n",
    "import numpy as np\n",
    "import matplotlib.pyplot as plt\n",
    "import seaborn as sns"
   ]
  },
  {
   "cell_type": "code",
   "execution_count": 28,
   "id": "8725b1c9-625f-41e0-b547-1c235e6b639d",
   "metadata": {},
   "outputs": [
    {
     "data": {
      "text/html": [
       "<div>\n",
       "<style scoped>\n",
       "    .dataframe tbody tr th:only-of-type {\n",
       "        vertical-align: middle;\n",
       "    }\n",
       "\n",
       "    .dataframe tbody tr th {\n",
       "        vertical-align: top;\n",
       "    }\n",
       "\n",
       "    .dataframe thead th {\n",
       "        text-align: right;\n",
       "    }\n",
       "</style>\n",
       "<table border=\"1\" class=\"dataframe\">\n",
       "  <thead>\n",
       "    <tr style=\"text-align: right;\">\n",
       "      <th></th>\n",
       "      <th>Student_ID</th>\n",
       "      <th>Student_Name</th>\n",
       "      <th>Field_of_Study</th>\n",
       "      <th>Year_of_Admission</th>\n",
       "      <th>Expected_Year_of_Graduation</th>\n",
       "      <th>Current_Semester</th>\n",
       "      <th>Specialization</th>\n",
       "      <th>Fees</th>\n",
       "      <th>Discount_on_Fees</th>\n",
       "      <th>S_complet</th>\n",
       "    </tr>\n",
       "  </thead>\n",
       "  <tbody>\n",
       "    <tr>\n",
       "      <th>0</th>\n",
       "      <td>165527</td>\n",
       "      <td>Bryan Rogers</td>\n",
       "      <td>Computer Science</td>\n",
       "      <td>2020.0</td>\n",
       "      <td>2017.0</td>\n",
       "      <td>3.0</td>\n",
       "      <td>Web Development</td>\n",
       "      <td>155152.0</td>\n",
       "      <td>19572.0</td>\n",
       "      <td>YES</td>\n",
       "    </tr>\n",
       "    <tr>\n",
       "      <th>1</th>\n",
       "      <td>635763</td>\n",
       "      <td>James Hogan</td>\n",
       "      <td>Mechanical Engineering</td>\n",
       "      <td>2020.0</td>\n",
       "      <td>2020.0</td>\n",
       "      <td>2.0</td>\n",
       "      <td>Machine Learning</td>\n",
       "      <td>157870.0</td>\n",
       "      <td>14760.0</td>\n",
       "      <td>YES</td>\n",
       "    </tr>\n",
       "    <tr>\n",
       "      <th>2</th>\n",
       "      <td>740021</td>\n",
       "      <td>David Robinson</td>\n",
       "      <td>Civil Engineering</td>\n",
       "      <td>2017.0</td>\n",
       "      <td>2022.0</td>\n",
       "      <td>1.0</td>\n",
       "      <td>Network Security</td>\n",
       "      <td>55662.0</td>\n",
       "      <td>5871.0</td>\n",
       "      <td>NO</td>\n",
       "    </tr>\n",
       "    <tr>\n",
       "      <th>3</th>\n",
       "      <td>433076</td>\n",
       "      <td>Susan Miller</td>\n",
       "      <td>Computer Science</td>\n",
       "      <td>2021.0</td>\n",
       "      <td>2019.0</td>\n",
       "      <td>1.0</td>\n",
       "      <td>Data Science</td>\n",
       "      <td>134955.0</td>\n",
       "      <td>17284.0</td>\n",
       "      <td>YES</td>\n",
       "    </tr>\n",
       "    <tr>\n",
       "      <th>4</th>\n",
       "      <td>441628</td>\n",
       "      <td>Brittany Martin</td>\n",
       "      <td>Chemical Engineering</td>\n",
       "      <td>2016.0</td>\n",
       "      <td>2018.0</td>\n",
       "      <td>1.0</td>\n",
       "      <td>Network Security</td>\n",
       "      <td>125934.0</td>\n",
       "      <td>14871.0</td>\n",
       "      <td>NO</td>\n",
       "    </tr>\n",
       "  </tbody>\n",
       "</table>\n",
       "</div>"
      ],
      "text/plain": [
       "   Student_ID     Student_Name          Field_of_Study  Year_of_Admission  \\\n",
       "0      165527     Bryan Rogers        Computer Science             2020.0   \n",
       "1      635763      James Hogan  Mechanical Engineering             2020.0   \n",
       "2      740021   David Robinson       Civil Engineering             2017.0   \n",
       "3      433076     Susan Miller        Computer Science             2021.0   \n",
       "4      441628  Brittany Martin    Chemical Engineering             2016.0   \n",
       "\n",
       "   Expected_Year_of_Graduation  Current_Semester    Specialization      Fees  \\\n",
       "0                       2017.0               3.0   Web Development  155152.0   \n",
       "1                       2020.0               2.0  Machine Learning  157870.0   \n",
       "2                       2022.0               1.0  Network Security   55662.0   \n",
       "3                       2019.0               1.0      Data Science  134955.0   \n",
       "4                       2018.0               1.0  Network Security  125934.0   \n",
       "\n",
       "   Discount_on_Fees S_complet  \n",
       "0           19572.0       YES  \n",
       "1           14760.0       YES  \n",
       "2            5871.0        NO  \n",
       "3           17284.0       YES  \n",
       "4           14871.0        NO  "
      ]
     },
     "execution_count": 28,
     "metadata": {},
     "output_type": "execute_result"
    }
   ],
   "source": [
    "# Load the data\n",
    "data = pd.read_csv(\"D:\\datasets\\student_data.csv\")\n",
    "data.head()"
   ]
  },
  {
   "cell_type": "code",
   "execution_count": 29,
   "id": "61d8327c-f34b-4161-9c8e-abe5bf072e11",
   "metadata": {},
   "outputs": [
    {
     "data": {
      "image/png": "[encoded data removed]",
      "text/plain": [
       "<Figure size 800x500 with 1 Axes>"
      ]
     },
     "metadata": {},
     "output_type": "display_data"
    }
   ],
   "source": [
    "# Import libraries\n",
    "import pandas as pd\n",
    "import numpy as np\n",
    "import matplotlib.pyplot as plt\n",
    "import seaborn as sns\n",
    "\n",
    "# Load dataset\n",
    "data = pd.read_csv(\"D:\\datasets\\student_data.csv\")\n",
    "\n",
    "# Visualize the data\n",
    "plt.figure(figsize=(8, 5))\n",
    "sns.heatmap(data.isnull(), cbar=False)\n",
    "plt.show()"
   ]
  },
  {
   "cell_type": "code",
   "execution_count": 30,
   "id": "4d91ede0-c4d7-49b2-8cb6-60701e6263d8",
   "metadata": {},
   "outputs": [
    {
     "name": "stdout",
     "output_type": "stream",
     "text": [
      "<class 'pandas.core.frame.DataFrame'>\n",
      "RangeIndex: 30000 entries, 0 to 29999\n",
      "Data columns (total 10 columns):\n",
      " #   Column                       Non-Null Count  Dtype  \n",
      "---  ------                       --------------  -----  \n",
      " 0   Student_ID                   30000 non-null  int64  \n",
      " 1   Student_Name                 29996 non-null  object \n",
      " 2   Field_of_Study               29996 non-null  object \n",
      " 3   Year_of_Admission            29996 non-null  float64\n",
      " 4   Expected_Year_of_Graduation  29999 non-null  float64\n",
      " 5   Current_Semester             29997 non-null  float64\n",
      " 6   Specialization               29995 non-null  object \n",
      " 7   Fees                         29999 non-null  float64\n",
      " 8   Discount_on_Fees             29999 non-null  float64\n",
      " 9   S_complet                    30000 non-null  object \n",
      "dtypes: float64(5), int64(1), object(4)\n",
      "memory usage: 2.3+ MB\n"
     ]
    }
   ],
   "source": [
    "data.info()"
   ]
  },
  {
   "cell_type": "code",
   "execution_count": 31,
   "id": "f1751068-a4f5-4843-88a9-57bf63fb05a5",
   "metadata": {},
   "outputs": [
    {
     "data": {
      "text/plain": [
       "Specialization                 5\n",
       "Student_Name                   4\n",
       "Field_of_Study                 4\n",
       "Year_of_Admission              4\n",
       "Current_Semester               3\n",
       "Expected_Year_of_Graduation    1\n",
       "Fees                           1\n",
       "Discount_on_Fees               1\n",
       "Student_ID                     0\n",
       "S_complet                      0\n",
       "dtype: int64"
      ]
     },
     "execution_count": 31,
     "metadata": {},
     "output_type": "execute_result"
    }
   ],
   "source": [
    "data.isnull().sum().sort_values(ascending=False)"
   ]
  },
  {
   "cell_type": "code",
   "execution_count": 32,
   "id": "0b1baf5f-c147-41fb-ac93-103643356c25",
   "metadata": {},
   "outputs": [
    {
     "data": {
      "text/plain": [
       "Specialization                 0.02\n",
       "Student_Name                   0.01\n",
       "Field_of_Study                 0.01\n",
       "Year_of_Admission              0.01\n",
       "Current_Semester               0.01\n",
       "Student_ID                     0.00\n",
       "Expected_Year_of_Graduation    0.00\n",
       "Fees                           0.00\n",
       "Discount_on_Fees               0.00\n",
       "S_complet                      0.00\n",
       "dtype: float64"
      ]
     },
     "execution_count": 32,
     "metadata": {},
     "output_type": "execute_result"
    }
   ],
   "source": [
    "round(data.isnull().sum() / len(data) * 100, 2).sort_values(ascending=False)"
   ]
  },
  {
   "cell_type": "code",
   "execution_count": 33,
   "id": "b60e2639-fc82-4585-826f-ade957ad9e9e",
   "metadata": {},
   "outputs": [
    {
     "name": "stdout",
     "output_type": "stream",
     "text": [
      "----------------------------------------\n",
      "Missing values in each column:\n",
      "Specialization                 5\n",
      "Student_Name                   4\n",
      "Field_of_Study                 4\n",
      "Year_of_Admission              4\n",
      "Current_Semester               3\n",
      "Expected_Year_of_Graduation    1\n",
      "Fees                           1\n",
      "Discount_on_Fees               1\n",
      "Student_ID                     0\n",
      "S_complet                      0\n",
      "dtype: int64\n",
      "----------------------------------------\n",
      "Percentage of missing values in each column:\n",
      "Specialization                 0.02\n",
      "Student_Name                   0.01\n",
      "Field_of_Study                 0.01\n",
      "Year_of_Admission              0.01\n",
      "Current_Semester               0.01\n",
      "Student_ID                     0.00\n",
      "Expected_Year_of_Graduation    0.00\n",
      "Fees                           0.00\n",
      "Discount_on_Fees               0.00\n",
      "S_complet                      0.00\n",
      "dtype: float64\n"
     ]
    }
   ],
   "source": [
    "# Import libraries\n",
    "import pandas as pd\n",
    "import numpy as np\n",
    "import seaborn as sns\n",
    "# load titanic dataset\n",
    "data = pd.read_csv(\"D:\\datasets\\student_data.csv\")\n",
    "\n",
    "# calculate missing values\n",
    "print(\"----------------------------------------\")\n",
    "print(f\"Missing values in each column:\\n{data.isnull().sum().sort_values(ascending=False)}\")\n",
    "print(\"----------------------------------------\")\n",
    "print(f\"Percentage of missing values in each column:\\n{round(data.isnull().sum() / len(data) * 100, 2).sort_values(ascending=False)}\")"
   ]
  },
  {
   "cell_type": "code",
   "execution_count": 34,
   "id": "99615f8c-87fb-4623-9408-15f7c9f8a2ef",
   "metadata": {},
   "outputs": [
    {
     "data": {
      "text/html": [
       "<div>\n",
       "<style scoped>\n",
       "    .dataframe tbody tr th:only-of-type {\n",
       "        vertical-align: middle;\n",
       "    }\n",
       "\n",
       "    .dataframe tbody tr th {\n",
       "        vertical-align: top;\n",
       "    }\n",
       "\n",
       "    .dataframe thead th {\n",
       "        text-align: right;\n",
       "    }\n",
       "</style>\n",
       "<table border=\"1\" class=\"dataframe\">\n",
       "  <thead>\n",
       "    <tr style=\"text-align: right;\">\n",
       "      <th></th>\n",
       "      <th>Student_ID</th>\n",
       "      <th>Student_Name</th>\n",
       "      <th>Field_of_Study</th>\n",
       "      <th>Year_of_Admission</th>\n",
       "      <th>Expected_Year_of_Graduation</th>\n",
       "      <th>Current_Semester</th>\n",
       "      <th>Specialization</th>\n",
       "      <th>Fees</th>\n",
       "      <th>Discount_on_Fees</th>\n",
       "      <th>S_complet</th>\n",
       "    </tr>\n",
       "  </thead>\n",
       "  <tbody>\n",
       "    <tr>\n",
       "      <th>0</th>\n",
       "      <td>165527</td>\n",
       "      <td>Bryan Rogers</td>\n",
       "      <td>Computer Science</td>\n",
       "      <td>2020.0</td>\n",
       "      <td>2017.0</td>\n",
       "      <td>3.0</td>\n",
       "      <td>Web Development</td>\n",
       "      <td>155152.0</td>\n",
       "      <td>19572.0</td>\n",
       "      <td>YES</td>\n",
       "    </tr>\n",
       "    <tr>\n",
       "      <th>1</th>\n",
       "      <td>635763</td>\n",
       "      <td>James Hogan</td>\n",
       "      <td>Mechanical Engineering</td>\n",
       "      <td>2020.0</td>\n",
       "      <td>2020.0</td>\n",
       "      <td>2.0</td>\n",
       "      <td>Machine Learning</td>\n",
       "      <td>157870.0</td>\n",
       "      <td>14760.0</td>\n",
       "      <td>YES</td>\n",
       "    </tr>\n",
       "    <tr>\n",
       "      <th>2</th>\n",
       "      <td>740021</td>\n",
       "      <td>David Robinson</td>\n",
       "      <td>Civil Engineering</td>\n",
       "      <td>2017.0</td>\n",
       "      <td>2022.0</td>\n",
       "      <td>1.0</td>\n",
       "      <td>Network Security</td>\n",
       "      <td>55662.0</td>\n",
       "      <td>5871.0</td>\n",
       "      <td>NO</td>\n",
       "    </tr>\n",
       "    <tr>\n",
       "      <th>3</th>\n",
       "      <td>433076</td>\n",
       "      <td>Susan Miller</td>\n",
       "      <td>Computer Science</td>\n",
       "      <td>2021.0</td>\n",
       "      <td>2019.0</td>\n",
       "      <td>1.0</td>\n",
       "      <td>Data Science</td>\n",
       "      <td>134955.0</td>\n",
       "      <td>17284.0</td>\n",
       "      <td>YES</td>\n",
       "    </tr>\n",
       "    <tr>\n",
       "      <th>4</th>\n",
       "      <td>441628</td>\n",
       "      <td>Brittany Martin</td>\n",
       "      <td>Chemical Engineering</td>\n",
       "      <td>2016.0</td>\n",
       "      <td>2018.0</td>\n",
       "      <td>1.0</td>\n",
       "      <td>Network Security</td>\n",
       "      <td>125934.0</td>\n",
       "      <td>14871.0</td>\n",
       "      <td>NO</td>\n",
       "    </tr>\n",
       "  </tbody>\n",
       "</table>\n",
       "</div>"
      ],
      "text/plain": [
       "   Student_ID     Student_Name          Field_of_Study  Year_of_Admission  \\\n",
       "0      165527     Bryan Rogers        Computer Science             2020.0   \n",
       "1      635763      James Hogan  Mechanical Engineering             2020.0   \n",
       "2      740021   David Robinson       Civil Engineering             2017.0   \n",
       "3      433076     Susan Miller        Computer Science             2021.0   \n",
       "4      441628  Brittany Martin    Chemical Engineering             2016.0   \n",
       "\n",
       "   Expected_Year_of_Graduation  Current_Semester    Specialization      Fees  \\\n",
       "0                       2017.0               3.0   Web Development  155152.0   \n",
       "1                       2020.0               2.0  Machine Learning  157870.0   \n",
       "2                       2022.0               1.0  Network Security   55662.0   \n",
       "3                       2019.0               1.0      Data Science  134955.0   \n",
       "4                       2018.0               1.0  Network Security  125934.0   \n",
       "\n",
       "   Discount_on_Fees S_complet  \n",
       "0           19572.0       YES  \n",
       "1           14760.0       YES  \n",
       "2            5871.0        NO  \n",
       "3           17284.0       YES  \n",
       "4           14871.0        NO  "
      ]
     },
     "execution_count": 34,
     "metadata": {},
     "output_type": "execute_result"
    }
   ],
   "source": [
    "data.head()"
   ]
  },
  {
   "cell_type": "code",
   "execution_count": 35,
   "id": "20ca4541-623b-41f6-bb07-83b6db6d1fb2",
   "metadata": {},
   "outputs": [
    {
     "data": {
      "text/plain": [
       "125063.51"
      ]
     },
     "execution_count": 35,
     "metadata": {},
     "output_type": "execute_result"
    }
   ],
   "source": [
    "round(data['Fees'].mean(), 2)"
   ]
  },
  {
   "cell_type": "code",
   "execution_count": 36,
   "id": "aa61c590-6992-44af-854f-9d3e1b19917a",
   "metadata": {},
   "outputs": [
    {
     "data": {
      "text/plain": [
       "125368.0"
      ]
     },
     "execution_count": 36,
     "metadata": {},
     "output_type": "execute_result"
    }
   ],
   "source": [
    "data['Fees'].median()"
   ]
  },
  {
   "cell_type": "code",
   "execution_count": 37,
   "id": "109ba516-95ed-482a-9669-0831fd23bacd",
   "metadata": {},
   "outputs": [
    {
     "data": {
      "text/html": [
       "<div>\n",
       "<style scoped>\n",
       "    .dataframe tbody tr th:only-of-type {\n",
       "        vertical-align: middle;\n",
       "    }\n",
       "\n",
       "    .dataframe tbody tr th {\n",
       "        vertical-align: top;\n",
       "    }\n",
       "\n",
       "    .dataframe thead th {\n",
       "        text-align: right;\n",
       "    }\n",
       "</style>\n",
       "<table border=\"1\" class=\"dataframe\">\n",
       "  <thead>\n",
       "    <tr style=\"text-align: right;\">\n",
       "      <th></th>\n",
       "      <th>Student_ID</th>\n",
       "      <th>Student_Name</th>\n",
       "      <th>Field_of_Study</th>\n",
       "      <th>Year_of_Admission</th>\n",
       "      <th>Current_Semester</th>\n",
       "      <th>Specialization</th>\n",
       "      <th>Fees</th>\n",
       "      <th>Discount_on_Fees</th>\n",
       "      <th>S_complet</th>\n",
       "    </tr>\n",
       "  </thead>\n",
       "  <tbody>\n",
       "    <tr>\n",
       "      <th>0</th>\n",
       "      <td>165527</td>\n",
       "      <td>Bryan Rogers</td>\n",
       "      <td>Computer Science</td>\n",
       "      <td>2020.0</td>\n",
       "      <td>3.0</td>\n",
       "      <td>Web Development</td>\n",
       "      <td>155152.0</td>\n",
       "      <td>19572.0</td>\n",
       "      <td>YES</td>\n",
       "    </tr>\n",
       "    <tr>\n",
       "      <th>1</th>\n",
       "      <td>635763</td>\n",
       "      <td>James Hogan</td>\n",
       "      <td>Mechanical Engineering</td>\n",
       "      <td>2020.0</td>\n",
       "      <td>2.0</td>\n",
       "      <td>Machine Learning</td>\n",
       "      <td>157870.0</td>\n",
       "      <td>14760.0</td>\n",
       "      <td>YES</td>\n",
       "    </tr>\n",
       "    <tr>\n",
       "      <th>2</th>\n",
       "      <td>740021</td>\n",
       "      <td>David Robinson</td>\n",
       "      <td>Civil Engineering</td>\n",
       "      <td>2017.0</td>\n",
       "      <td>1.0</td>\n",
       "      <td>Network Security</td>\n",
       "      <td>55662.0</td>\n",
       "      <td>5871.0</td>\n",
       "      <td>NO</td>\n",
       "    </tr>\n",
       "    <tr>\n",
       "      <th>3</th>\n",
       "      <td>433076</td>\n",
       "      <td>Susan Miller</td>\n",
       "      <td>Computer Science</td>\n",
       "      <td>2021.0</td>\n",
       "      <td>1.0</td>\n",
       "      <td>Data Science</td>\n",
       "      <td>134955.0</td>\n",
       "      <td>17284.0</td>\n",
       "      <td>YES</td>\n",
       "    </tr>\n",
       "    <tr>\n",
       "      <th>4</th>\n",
       "      <td>441628</td>\n",
       "      <td>Brittany Martin</td>\n",
       "      <td>Chemical Engineering</td>\n",
       "      <td>2016.0</td>\n",
       "      <td>1.0</td>\n",
       "      <td>Network Security</td>\n",
       "      <td>125934.0</td>\n",
       "      <td>14871.0</td>\n",
       "      <td>NO</td>\n",
       "    </tr>\n",
       "  </tbody>\n",
       "</table>\n",
       "</div>"
      ],
      "text/plain": [
       "   Student_ID     Student_Name          Field_of_Study  Year_of_Admission  \\\n",
       "0      165527     Bryan Rogers        Computer Science             2020.0   \n",
       "1      635763      James Hogan  Mechanical Engineering             2020.0   \n",
       "2      740021   David Robinson       Civil Engineering             2017.0   \n",
       "3      433076     Susan Miller        Computer Science             2021.0   \n",
       "4      441628  Brittany Martin    Chemical Engineering             2016.0   \n",
       "\n",
       "   Current_Semester    Specialization      Fees  Discount_on_Fees S_complet  \n",
       "0               3.0   Web Development  155152.0           19572.0       YES  \n",
       "1               2.0  Machine Learning  157870.0           14760.0       YES  \n",
       "2               1.0  Network Security   55662.0            5871.0        NO  \n",
       "3               1.0      Data Science  134955.0           17284.0       YES  \n",
       "4               1.0  Network Security  125934.0           14871.0        NO  "
      ]
     },
     "execution_count": 37,
     "metadata": {},
     "output_type": "execute_result"
    }
   ],
   "source": [
    "# Mean of Fees to fill Fees missing values\n",
    "data['Fees'] = data['Fees'].fillna(data['Fees'].median())\n",
    "\n",
    "# drop Expected_Year_of_Graduation column\n",
    "data.drop('Expected_Year_of_Graduation', axis=1, inplace=True)\n",
    "data.head()"
   ]
  },
  {
   "cell_type": "code",
   "execution_count": 38,
   "id": "10acc98d-e4cb-41f6-a859-7c73500371bc",
   "metadata": {},
   "outputs": [
    {
     "data": {
      "text/plain": [
       "Current_Semester\n",
       "2.0    7555\n",
       "1.0    7515\n",
       "4.0    7478\n",
       "3.0    7449\n",
       "Name: count, dtype: int64"
      ]
     },
     "execution_count": 38,
     "metadata": {},
     "output_type": "execute_result"
    }
   ],
   "source": [
    "data['Current_Semester'].value_counts()"
   ]
  },
  {
   "cell_type": "code",
   "execution_count": 39,
   "id": "f34949ca-5b85-4bbf-8b49-35272f727400",
   "metadata": {},
   "outputs": [
    {
     "data": {
      "text/plain": [
       "Specialization       5\n",
       "Student_Name         4\n",
       "Field_of_Study       4\n",
       "Discount_on_Fees     1\n",
       "Student_ID           0\n",
       "Year_of_Admission    0\n",
       "Current_Semester     0\n",
       "Fees                 0\n",
       "S_complet            0\n",
       "dtype: int64"
      ]
     },
     "execution_count": 39,
     "metadata": {},
     "output_type": "execute_result"
    }
   ],
   "source": [
    "# replacing Expected_Year_of_Graduation missing values with mode\n",
    "data['Current_Semester'] = data['Current_Semester'].fillna(data['Current_Semester'].mode()[0])\n",
    "data['Year_of_Admission'] =data['Year_of_Admission'].fillna(data['Year_of_Admission'].mode()[0])\n",
    "\n",
    "data.isnull().sum().sort_values(ascending=False)"
   ]
  },
  {
   "cell_type": "markdown",
   "id": "a8754c3f-e629-48bb-a798-5e899e0c0f3b",
   "metadata": {},
   "source": [
    "## we can also impute using sk learn"
   ]
  },
  {
   "cell_type": "code",
   "execution_count": 40,
   "id": "fe1b60bb-94bd-4dad-8bbc-374ea6d57ed3",
   "metadata": {},
   "outputs": [],
   "source": [
    "# import libraries\n",
    "import pandas as pd\n",
    "import numpy as np\n",
    "import seaborn as sns\n",
    "\n",
    "from sklearn.impute import SimpleImputer"
   ]
  },
  {
   "cell_type": "code",
   "execution_count": 41,
   "id": "bc7695cf-7dfe-4967-b6f0-e1ee6be47cc5",
   "metadata": {},
   "outputs": [
    {
     "data": {
      "text/plain": [
       "Specialization                 5\n",
       "Student_Name                   4\n",
       "Field_of_Study                 4\n",
       "Year_of_Admission              4\n",
       "Expected_Year_of_Graduation    1\n",
       "Fees                           1\n",
       "Discount_on_Fees               1\n",
       "Student_ID                     0\n",
       "Current_Semester               0\n",
       "S_complet                      0\n",
       "dtype: int64"
      ]
     },
     "execution_count": 41,
     "metadata": {},
     "output_type": "execute_result"
    }
   ],
   "source": [
    "df = pd.read_csv(\"D:\\datasets\\student_data.csv\")\n",
    "\n",
    "\n",
    "# impute age column using simpleimputer from sklearn\n",
    "imputer = SimpleImputer(strategy='mean')\n",
    "\n",
    "\n",
    "df['Current_Semester'] = imputer.fit_transform(df[['Current_Semester']])\n",
    "df.isnull().sum().sort_values(ascending=False)"
   ]
  },
  {
   "cell_type": "code",
   "execution_count": 42,
   "id": "603be003-903d-4d82-9052-84f511b8150d",
   "metadata": {},
   "outputs": [
    {
     "data": {
      "text/html": [
       "<div>\n",
       "<style scoped>\n",
       "    .dataframe tbody tr th:only-of-type {\n",
       "        vertical-align: middle;\n",
       "    }\n",
       "\n",
       "    .dataframe tbody tr th {\n",
       "        vertical-align: top;\n",
       "    }\n",
       "\n",
       "    .dataframe thead th {\n",
       "        text-align: right;\n",
       "    }\n",
       "</style>\n",
       "<table border=\"1\" class=\"dataframe\">\n",
       "  <thead>\n",
       "    <tr style=\"text-align: right;\">\n",
       "      <th></th>\n",
       "      <th>Student_ID</th>\n",
       "      <th>Student_Name</th>\n",
       "      <th>Field_of_Study</th>\n",
       "      <th>Year_of_Admission</th>\n",
       "      <th>Expected_Year_of_Graduation</th>\n",
       "      <th>Current_Semester</th>\n",
       "      <th>Specialization</th>\n",
       "      <th>Fees</th>\n",
       "      <th>Discount_on_Fees</th>\n",
       "      <th>S_complet</th>\n",
       "    </tr>\n",
       "  </thead>\n",
       "  <tbody>\n",
       "    <tr>\n",
       "      <th>0</th>\n",
       "      <td>165527</td>\n",
       "      <td>Bryan Rogers</td>\n",
       "      <td>Computer Science</td>\n",
       "      <td>2020.0</td>\n",
       "      <td>2017.0</td>\n",
       "      <td>3.0</td>\n",
       "      <td>Web Development</td>\n",
       "      <td>155152.0</td>\n",
       "      <td>19572.0</td>\n",
       "      <td>YES</td>\n",
       "    </tr>\n",
       "    <tr>\n",
       "      <th>1</th>\n",
       "      <td>635763</td>\n",
       "      <td>James Hogan</td>\n",
       "      <td>Mechanical Engineering</td>\n",
       "      <td>2020.0</td>\n",
       "      <td>2020.0</td>\n",
       "      <td>2.0</td>\n",
       "      <td>Machine Learning</td>\n",
       "      <td>157870.0</td>\n",
       "      <td>14760.0</td>\n",
       "      <td>YES</td>\n",
       "    </tr>\n",
       "    <tr>\n",
       "      <th>2</th>\n",
       "      <td>740021</td>\n",
       "      <td>David Robinson</td>\n",
       "      <td>Civil Engineering</td>\n",
       "      <td>2017.0</td>\n",
       "      <td>2022.0</td>\n",
       "      <td>1.0</td>\n",
       "      <td>Network Security</td>\n",
       "      <td>55662.0</td>\n",
       "      <td>5871.0</td>\n",
       "      <td>NO</td>\n",
       "    </tr>\n",
       "    <tr>\n",
       "      <th>3</th>\n",
       "      <td>433076</td>\n",
       "      <td>Susan Miller</td>\n",
       "      <td>Computer Science</td>\n",
       "      <td>2021.0</td>\n",
       "      <td>2019.0</td>\n",
       "      <td>1.0</td>\n",
       "      <td>Data Science</td>\n",
       "      <td>134955.0</td>\n",
       "      <td>17284.0</td>\n",
       "      <td>YES</td>\n",
       "    </tr>\n",
       "    <tr>\n",
       "      <th>4</th>\n",
       "      <td>441628</td>\n",
       "      <td>Brittany Martin</td>\n",
       "      <td>Chemical Engineering</td>\n",
       "      <td>2016.0</td>\n",
       "      <td>2018.0</td>\n",
       "      <td>1.0</td>\n",
       "      <td>Network Security</td>\n",
       "      <td>125934.0</td>\n",
       "      <td>14871.0</td>\n",
       "      <td>NO</td>\n",
       "    </tr>\n",
       "  </tbody>\n",
       "</table>\n",
       "</div>"
      ],
      "text/plain": [
       "   Student_ID     Student_Name          Field_of_Study  Year_of_Admission  \\\n",
       "0      165527     Bryan Rogers        Computer Science             2020.0   \n",
       "1      635763      James Hogan  Mechanical Engineering             2020.0   \n",
       "2      740021   David Robinson       Civil Engineering             2017.0   \n",
       "3      433076     Susan Miller        Computer Science             2021.0   \n",
       "4      441628  Brittany Martin    Chemical Engineering             2016.0   \n",
       "\n",
       "   Expected_Year_of_Graduation  Current_Semester    Specialization      Fees  \\\n",
       "0                       2017.0               3.0   Web Development  155152.0   \n",
       "1                       2020.0               2.0  Machine Learning  157870.0   \n",
       "2                       2022.0               1.0  Network Security   55662.0   \n",
       "3                       2019.0               1.0      Data Science  134955.0   \n",
       "4                       2018.0               1.0  Network Security  125934.0   \n",
       "\n",
       "   Discount_on_Fees S_complet  \n",
       "0           19572.0       YES  \n",
       "1           14760.0       YES  \n",
       "2            5871.0        NO  \n",
       "3           17284.0       YES  \n",
       "4           14871.0        NO  "
      ]
     },
     "execution_count": 42,
     "metadata": {},
     "output_type": "execute_result"
    }
   ],
   "source": [
    "df.head()"
   ]
  },
  {
   "cell_type": "markdown",
   "id": "af32bd3a-92b5-4e21-879b-3a1aacebfa42",
   "metadata": {},
   "source": [
    "# multivariate imputation"
   ]
  },
  {
   "cell_type": "code",
   "execution_count": 43,
   "id": "e1c1fc3f-71f9-46ce-9fe7-ccc8ba58702d",
   "metadata": {},
   "outputs": [
    {
     "data": {
      "text/plain": [
       "Specialization                 5\n",
       "Student_Name                   4\n",
       "Field_of_Study                 4\n",
       "Current_Semester               3\n",
       "Expected_Year_of_Graduation    1\n",
       "Fees                           1\n",
       "Discount_on_Fees               1\n",
       "Student_ID                     0\n",
       "Year_of_Admission              0\n",
       "S_complet                      0\n",
       "dtype: int64"
      ]
     },
     "execution_count": 43,
     "metadata": {},
     "output_type": "execute_result"
    }
   ],
   "source": [
    "df = pd.read_csv(\"D:\\datasets\\student_data.csv\")\n",
    "\n",
    "\n",
    "\n",
    "from sklearn.experimental import enable_iterative_imputer\n",
    "from sklearn.impute import IterativeImputer\n",
    "\n",
    "# impute age column using iterativeimputer from sklearn\n",
    "imputer = IterativeImputer(max_iter=20, n_nearest_features=5)\n",
    "df['Year_of_Admission'] = imputer.fit_transform(df[['Year_of_Admission']])\n",
    "\n",
    "\n",
    "df.isnull().sum().sort_values(ascending=False)"
   ]
  },
  {
   "cell_type": "markdown",
   "id": "4e108439-e6d2-4d0f-a819-15251fbc9724",
   "metadata": {},
   "source": [
    "## ffill and backward fill"
   ]
  },
  {
   "cell_type": "code",
   "execution_count": 44,
   "id": "29b574ce-78b6-4ca1-b709-a8bd4510abf0",
   "metadata": {},
   "outputs": [
    {
     "data": {
      "text/plain": [
       "Specialization                 5\n",
       "Student_Name                   4\n",
       "Field_of_Study                 4\n",
       "Year_of_Admission              4\n",
       "Current_Semester               3\n",
       "Expected_Year_of_Graduation    1\n",
       "Fees                           1\n",
       "Discount_on_Fees               1\n",
       "Student_ID                     0\n",
       "S_complet                      0\n",
       "dtype: int64"
      ]
     },
     "execution_count": 44,
     "metadata": {},
     "output_type": "execute_result"
    }
   ],
   "source": [
    "df = pd.read_csv(\"D:\\datasets\\student_data.csv\")\n",
    "\n",
    "\n",
    "df.isnull().sum().sort_values(ascending=False)"
   ]
  },
  {
   "cell_type": "code",
   "execution_count": 45,
   "id": "79ed9277-4279-4cf3-bfdf-6223b38e0152",
   "metadata": {},
   "outputs": [],
   "source": [
    "# using forward fill impute age column\n",
    "df['Year_of_Admission'] = df['Year_of_Admission'].bfill()"
   ]
  },
  {
   "cell_type": "markdown",
   "id": "c9f29d9d-ce07-4dd1-b0c5-4c50975d76f5",
   "metadata": {},
   "source": [
    "# using KNN imputer"
   ]
  },
  {
   "cell_type": "code",
   "execution_count": 46,
   "id": "9457b905-b9e1-47aa-9b02-869dd160b0a2",
   "metadata": {},
   "outputs": [
    {
     "name": "stdout",
     "output_type": "stream",
     "text": [
      "<class 'pandas.core.frame.DataFrame'>\n",
      "Index: 29982 entries, 0 to 29999\n",
      "Data columns (total 10 columns):\n",
      " #   Column                       Non-Null Count  Dtype  \n",
      "---  ------                       --------------  -----  \n",
      " 0   Student_ID                   29982 non-null  int64  \n",
      " 1   Student_Name                 29982 non-null  object \n",
      " 2   Field_of_Study               29982 non-null  object \n",
      " 3   Year_of_Admission            29982 non-null  float64\n",
      " 4   Expected_Year_of_Graduation  29982 non-null  float64\n",
      " 5   Current_Semester             29982 non-null  float64\n",
      " 6   Specialization               29982 non-null  object \n",
      " 7   Fees                         29982 non-null  float64\n",
      " 8   Discount_on_Fees             29982 non-null  float64\n",
      " 9   S_complet                    29982 non-null  object \n",
      "dtypes: float64(5), int64(1), object(4)\n",
      "memory usage: 2.5+ MB\n"
     ]
    }
   ],
   "source": [
    "from sklearn.impute import KNNImputer\n",
    "\n",
    "# impute age column using KNNImputer from sklearn\n",
    "imputer = KNNImputer(n_neighbors=5)\n",
    "df['Year_of_Admission'] = imputer.fit_transform(df[['Year_of_Admission']])\n",
    "\n",
    "\n",
    "# drop rows having missing values\n",
    "df.dropna(inplace=True)\n",
    "\n",
    "\n",
    "df.info()"
   ]
  },
  {
   "cell_type": "code",
   "execution_count": 47,
   "id": "ef98397f-068f-4d01-85fc-56ef9902ad26",
   "metadata": {},
   "outputs": [
    {
     "data": {
      "text/plain": [
       "Student_ID                     0\n",
       "Student_Name                   0\n",
       "Field_of_Study                 0\n",
       "Year_of_Admission              0\n",
       "Expected_Year_of_Graduation    0\n",
       "Current_Semester               0\n",
       "Specialization                 0\n",
       "Fees                           0\n",
       "Discount_on_Fees               0\n",
       "S_complet                      0\n",
       "dtype: int64"
      ]
     },
     "execution_count": 47,
     "metadata": {},
     "output_type": "execute_result"
    }
   ],
   "source": [
    "df.isnull().sum().sort_values(ascending=False)"
   ]
  },
  {
   "cell_type": "code",
   "execution_count": null,
   "id": "9a39a300-e09c-4fc9-b543-03e6545a9998",
   "metadata": {},
   "outputs": [],
   "source": []
  }
 ],
 "metadata": {
  "kernelspec": {
   "display_name": "Python 3 (ipykernel)",
   "language": "python",
   "name": "python3"
  },
  "language_info": {
   "codemirror_mode": {
    "name": "ipython",
    "version": 3
   },
   "file_extension": ".py",
   "mimetype": "text/x-python",
   "name": "python",
   "nbconvert_exporter": "python",
   "pygments_lexer": "ipython3",
   "version": "3.11.7"
  }
 },
 "nbformat": 4,
 "nbformat_minor": 5
}
